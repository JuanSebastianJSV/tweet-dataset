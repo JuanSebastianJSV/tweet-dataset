{
  "nbformat": 4,
  "nbformat_minor": 0,
  "metadata": {
    "colab": {
      "name": "combine json.ipynb",
      "provenance": []
    },
    "kernelspec": {
      "name": "python3",
      "display_name": "Python 3"
    },
    "language_info": {
      "name": "python"
    }
  },
  "cells": [
    {
      "cell_type": "code",
      "metadata": {
        "id": "4i2ZU6mmlfgW"
      },
      "source": [
        "import json\n",
        "files=['crawl_12_07_2021.json','crawl_21_07_2021.json','crawl_29_07_2021.json','crawl_05_08_2021.json','crawl_12_08_2021.json','crawl_26_08_2021.json','crawl_03_09_2021.json','crawl_10_09_2021.json','crawl_17_09_2021.json','crawl_25_09_2021.json','crawl_03_10_2021.json','crawl_11_10_2021.json','crawl_17_10_2021.json','crawl_24_10_2021.json','crawl_31_10_2021.json']\n",
        "\n",
        "def merge_JsonFiles(filename):\n",
        "    result = list()\n",
        "    for f1 in filename:\n",
        "        with open(f1, 'r') as infile:\n",
        "            result.extend(json.load(infile))\n",
        "\n",
        "    with open('CrawlingJulyOkt.json', 'w') as output_file:\n",
        "        json.dump(result, output_file)\n",
        "\n",
        "merge_JsonFiles(files)"
      ],
      "execution_count": null,
      "outputs": []
    }
  ]
}